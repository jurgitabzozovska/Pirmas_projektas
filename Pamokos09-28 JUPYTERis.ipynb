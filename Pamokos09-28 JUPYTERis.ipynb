{
 "cells": [
  {
   "cell_type": "code",
   "execution_count": 1,
   "id": "initial_id",
   "metadata": {
    "collapsed": true,
    "ExecuteTime": {
     "end_time": "2023-09-30T10:15:19.367523500Z",
     "start_time": "2023-09-30T10:15:09.685603800Z"
    }
   },
   "outputs": [
    {
     "name": "stdout",
     "output_type": "stream",
     "text": [
      "Table created successfully\n",
      "Products inserted into list succesfully!\n",
      "                            Adresas  Kambarius_sk  Plotas Aukstas   Kaina  \\\n",
      "0               PalangaVanagupės g.             1   34.62     4/4  117500   \n",
      "1               PalangaVanagupės g.             3   71.24     2/4  241000   \n",
      "2               PalangaVanagupės g.             1   33.85     1/4  116800   \n",
      "3               PalangaVanagupės g.             2   44.28     2/5  138000   \n",
      "4               PalangaVanagupės g.             2   44.00     2/4  161506   \n",
      "..                              ...           ...     ...     ...     ...   \n",
      "77  Vilnius, NaujamiestisSkroblų g.             3   55.53     3/3  129999   \n",
      "78  Vilnius, NaujamiestisSkroblų g.             3   63.22     4/4  119990   \n",
      "79  Vilnius, NaujamiestisSkroblų g.             2   38.00     1/2  145000   \n",
      "80  Vilnius, NaujamiestisSkroblų g.             2   58.54     3/3  307000   \n",
      "81  Vilnius, NaujamiestisSkroblų g.             2   51.66     5/7  146900   \n",
      "\n",
      "    Kv_kaina  \n",
      "0     3394.0  \n",
      "1     3383.0  \n",
      "2     3451.0  \n",
      "3     3117.0  \n",
      "4     3671.0  \n",
      "..       ...  \n",
      "77    2341.0  \n",
      "78    1898.0  \n",
      "79    3816.0  \n",
      "80    5244.0  \n",
      "81    2844.0  \n",
      "\n",
      "[82 rows x 6 columns]\n"
     ]
    }
   ],
   "source": [
    "import pandas as pd\n",
    "import seaborn as sns\n",
    "from bs4 import BeautifulSoup\n",
    "import requests\n",
    "import psycopg2\n",
    "import numpy as np\n",
    "import matplotlib.pyplot as plt\n",
    "def create_and_insert_product():\n",
    "    connection = psycopg2.connect(\n",
    "        host=\"localhost\",\n",
    "        port=5432,\n",
    "        database=\"ZaislaiProducts\",\n",
    "        user=\"postgres\",\n",
    "        password=\"truputukas1982\"\n",
    "    )\n",
    "    drop_table_query = '''\n",
    "        DROP TABLE IF EXISTS butai233\n",
    "'''\n",
    "    create_table_query = \"\"\"\n",
    "        CREATE TABLE butai233 (\n",
    "        id SERIAL PRIMARY KEY,\n",
    "        Adresas VARCHAR(255),\n",
    "        Kambariu_sk INT,\n",
    "        Plotas DECIMAL(10,2),\n",
    "        Aukstas VARCHAR(255),\n",
    "        Kaina DECIMAL(10,2),\n",
    "        Kv_kaina DECIMAL(10,2)\n",
    "        )\n",
    "    \"\"\"\n",
    "    cursor = connection.cursor()\n",
    "    cursor.execute(drop_table_query)\n",
    "    cursor.execute(create_table_query)\n",
    "    print('Table created successfully')\n",
    "    Butu_sarasas = []\n",
    "    for i in range(1,6):\n",
    "        url = f'https://www.aruodas.lt/atviru-duru-dienos/puslapis/{i}/'\n",
    "        response = requests.get(url)\n",
    "        # print(response.content)\n",
    "        soup = BeautifulSoup(response.content, 'html.parser')\n",
    "        blokas = soup.find_all('div', class_='list-row-v2 object-row opendoor advert')\n",
    "        for butas in blokas:\n",
    "            Adresas = soup.select_one('div.list-adress-v2 h3').text.strip()\n",
    "            Kambariu_sk = butas.find('div', class_='list-RoomNum-v2 list-detail-v2').text.strip()\n",
    "            Plotas = butas.find('div', class_='list-AreaOverall-v2 list-detail-v2').text.strip()\n",
    "            Aukstas = butas.find('div', class_='list-Floors-v2 list-detail-v2').text.strip()\n",
    "            Kaina = butas.find('span', class_='list-item-price-v2').text.strip('€').replace(' ', '')\n",
    "            Kv_kaina = butas.find('span', class_='price-pm-v2').text.strip().replace('€/m²', '').replace(' ', '').replace(',', '.')\n",
    "            if Kambariu_sk == '' or Plotas == '' or Kaina == '' or Kv_kaina == '':\n",
    "                continue\n",
    "            Kambariu_sk = int(Kambariu_sk)\n",
    "            Plotas = float(Plotas)\n",
    "            Kaina = int(Kaina)\n",
    "            Kv_kaina = float(Kv_kaina)\n",
    "            Butu_sarasas.append((Adresas, Kambariu_sk, Plotas, Aukstas, Kaina, Kv_kaina))\n",
    "            # print(Butu_sarasas)\n",
    "    df = pd.DataFrame(Butu_sarasas, columns=['Adresas', 'Kambarius_sk', 'Plotas', 'Aukstas', 'Kaina', 'Kv_kaina'])\n",
    "        # print(df)\n",
    "    df.to_csv('Butai22.csv')\n",
    "    insert_query = \"INSERT INTO butai233 (Adresas, Kambariu_sk, Plotas, Aukstas, Kaina, Kv_kaina) VALUES(%s, %s,%s,%s,%s,%s)\"\n",
    "    cursor.executemany(insert_query, Butu_sarasas)\n",
    "    print(f'Products inserted into list succesfully!')\n",
    "    connection.commit()\n",
    "        # cursor.close()\n",
    "        # connection.close()\n",
    "    select_query = \"SELECT * FROM butai233\"\n",
    "        # cursor.execute(select_query)\n",
    "        # Butu_sarasas = cursor.fetchall()\n",
    "    df = pd.DataFrame(Butu_sarasas, columns = ['Adresas', 'Kambarius_sk', 'Plotas', 'Aukstas', 'Kaina', 'Kv_kaina'])\n",
    "    print(df)\n",
    "if __name__ == '__main__':\n",
    "    create_and_insert_product()"
   ]
  },
  {
   "cell_type": "code",
   "execution_count": null,
   "outputs": [],
   "source": [],
   "metadata": {
    "collapsed": false,
    "is_executing": true
   },
   "id": "e86f1a29bf290a62"
  },
  {
   "cell_type": "code",
   "execution_count": null,
   "outputs": [],
   "source": [],
   "metadata": {
    "collapsed": false
   },
   "id": "7d2cd22bdcbd804c"
  }
 ],
 "metadata": {
  "kernelspec": {
   "display_name": "Python 3",
   "language": "python",
   "name": "python3"
  },
  "language_info": {
   "codemirror_mode": {
    "name": "ipython",
    "version": 2
   },
   "file_extension": ".py",
   "mimetype": "text/x-python",
   "name": "python",
   "nbconvert_exporter": "python",
   "pygments_lexer": "ipython2",
   "version": "2.7.6"
  }
 },
 "nbformat": 4,
 "nbformat_minor": 5
}
