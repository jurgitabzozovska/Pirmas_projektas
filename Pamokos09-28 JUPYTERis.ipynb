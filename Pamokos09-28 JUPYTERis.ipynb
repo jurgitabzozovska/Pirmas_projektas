{
 "cells": [
  {
   "cell_type": "code",
   "execution_count": 1,
   "id": "initial_id",
   "metadata": {
    "collapsed": true,
    "ExecuteTime": {
     "end_time": "2023-09-28T19:07:14.558948600Z",
     "start_time": "2023-09-28T19:07:02.693706500Z"
    }
   },
   "outputs": [
    {
     "name": "stdout",
     "output_type": "stream",
     "text": [
      "Table created successfully\n",
      "Products inserted into list succesfully!\n",
      "                                   Adresas  Kambarius_sk  Plotas Aukstas  \\\n",
      "0             Vilnius, PilaitėTvankstos g.             3   57.00     4/4   \n",
      "1             Vilnius, PilaitėTvankstos g.             2   33.20     5/5   \n",
      "2             Vilnius, PilaitėTvankstos g.             4   73.11     9/9   \n",
      "3             Vilnius, PilaitėTvankstos g.             3  104.90    9/16   \n",
      "4             Vilnius, PilaitėTvankstos g.             4   92.35     0/2   \n",
      "..                                     ...           ...     ...     ...   \n",
      "66  Vilnius, BalsiaiKryžiokų Sodų 9-oji g.             0  375.71     0/2   \n",
      "67  Vilnius, BalsiaiKryžiokų Sodų 9-oji g.             0   20.00     0/2   \n",
      "68  Vilnius, BalsiaiKryžiokų Sodų 9-oji g.             3   55.12     0/1   \n",
      "69  Vilnius, BalsiaiKryžiokų Sodų 9-oji g.             0  323.00     0/2   \n",
      "70  Vilnius, BalsiaiKryžiokų Sodų 9-oji g.             0  128.40     0/2   \n",
      "\n",
      "     Kaina  Kv_kaina  \n",
      "0   194000    3404.0  \n",
      "1    73500    2214.0  \n",
      "2    89500    1224.0  \n",
      "3   248000    2364.0  \n",
      "4   194900    2110.0  \n",
      "..     ...       ...  \n",
      "66  875000    2329.0  \n",
      "67   32000    1600.0  \n",
      "68   67000    1216.0  \n",
      "69  180000     557.0  \n",
      "70  222000    1729.0  \n",
      "\n",
      "[71 rows x 6 columns]\n"
     ]
    }
   ],
   "source": [
    "import pandas as pd\n",
    "import seaborn as sns\n",
    "from bs4 import BeautifulSoup\n",
    "import requests\n",
    "import psycopg2\n",
    "import numpy as np\n",
    "import matplotlib.pyplot as plt\n",
    "def create_and_insert_product():\n",
    "    connection = psycopg2.connect(\n",
    "        host=\"localhost\",\n",
    "        port=5432,\n",
    "        database=\"ZaislaiProducts\",\n",
    "        user=\"postgres\",\n",
    "        password=\"truputukas1982\"\n",
    "    )\n",
    "    drop_table_query = '''\n",
    "        DROP TABLE IF EXISTS butai2\n",
    "'''\n",
    "    create_table_query = \"\"\"\n",
    "        CREATE TABLE butai2 (\n",
    "        id SERIAL PRIMARY KEY,\n",
    "        Adresas VARCHAR(255),\n",
    "        Kambariu_sk INT,\n",
    "        Plotas DECIMAL(10,2),\n",
    "        Aukstas VARCHAR(255),\n",
    "        Kaina DECIMAL(10,2),\n",
    "        Kv_kaina DECIMAL(10,2)\n",
    "        )\n",
    "    \"\"\"\n",
    "    cursor = connection.cursor()\n",
    "    cursor.execute(drop_table_query)\n",
    "    cursor.execute(create_table_query)\n",
    "    print('Table created successfully')\n",
    "    Butu_sarasas = []\n",
    "    for i in range(1,6):\n",
    "        url = f'https://www.aruodas.lt/atviru-duru-dienos/puslapis/{i}/'\n",
    "        response = requests.get(url)\n",
    "        # print(response.content)\n",
    "        soup = BeautifulSoup(response.content, 'html.parser')\n",
    "        blokas = soup.find_all('div', class_='list-row-v2 object-row opendoor advert')\n",
    "        for butas in blokas:\n",
    "            Adresas = soup.select_one('div.list-adress-v2 h3').text.strip()\n",
    "            Kambariu_sk = butas.find('div', class_='list-RoomNum-v2 list-detail-v2').text.strip()\n",
    "            Plotas = butas.find('div', class_='list-AreaOverall-v2 list-detail-v2').text.strip()\n",
    "            Aukstas = butas.find('div', class_='list-Floors-v2 list-detail-v2').text.strip()\n",
    "            Kaina = butas.find('span', class_='list-item-price-v2').text.strip('€').replace(' ', '')\n",
    "            Kv_kaina = butas.find('span', class_='price-pm-v2').text.strip().replace('€/m²', '').replace(' ', '').replace(',', '.')\n",
    "            if Kambariu_sk == '' or Plotas == '' or Kaina == '' or Kv_kaina == '':\n",
    "                continue\n",
    "            Kambariu_sk = int(Kambariu_sk)\n",
    "            Plotas = float(Plotas)\n",
    "            Kaina = int(Kaina)\n",
    "            Kv_kaina = float(Kv_kaina)\n",
    "            Butu_sarasas.append((Adresas, Kambariu_sk, Plotas, Aukstas, Kaina, Kv_kaina))\n",
    "            # print(Butu_sarasas)\n",
    "    df = pd.DataFrame(Butu_sarasas, columns=['Adresas', 'Kambarius_sk', 'Plotas', 'Aukstas', 'Kaina', 'Kv_kaina'])\n",
    "        # print(df)\n",
    "    df.to_csv('Butai.csv')\n",
    "    insert_query = \"INSERT INTO butai2 (Adresas, Kambariu_sk, Plotas, Aukstas, Kaina, Kv_kaina) VALUES(%s, %s,%s,%s,%s,%s)\"\n",
    "    cursor.executemany(insert_query, Butu_sarasas)\n",
    "    print(f'Products inserted into list succesfully!')\n",
    "    connection.commit()\n",
    "        # cursor.close()\n",
    "        # connection.close()\n",
    "    select_query = \"SELECT * FROM butai2\"\n",
    "        # cursor.execute(select_query)\n",
    "        # Butu_sarasas = cursor.fetchall()\n",
    "    df = pd.DataFrame(Butu_sarasas, columns = ['Adresas', 'Kambarius_sk', 'Plotas', 'Aukstas', 'Kaina', 'Kv_kaina'])\n",
    "    print(df)\n",
    "if __name__ == '__main__':\n",
    "    create_and_insert_product()"
   ]
  },
  {
   "cell_type": "code",
   "execution_count": null,
   "outputs": [],
   "source": [],
   "metadata": {
    "collapsed": false,
    "is_executing": true
   },
   "id": "e86f1a29bf290a62"
  },
  {
   "cell_type": "code",
   "execution_count": null,
   "outputs": [],
   "source": [],
   "metadata": {
    "collapsed": false
   },
   "id": "7d2cd22bdcbd804c"
  }
 ],
 "metadata": {
  "kernelspec": {
   "display_name": "Python 3",
   "language": "python",
   "name": "python3"
  },
  "language_info": {
   "codemirror_mode": {
    "name": "ipython",
    "version": 2
   },
   "file_extension": ".py",
   "mimetype": "text/x-python",
   "name": "python",
   "nbconvert_exporter": "python",
   "pygments_lexer": "ipython2",
   "version": "2.7.6"
  }
 },
 "nbformat": 4,
 "nbformat_minor": 5
}
